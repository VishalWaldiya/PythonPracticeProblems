{
 "cells": [
  {
   "cell_type": "markdown",
   "metadata": {},
   "source": [
    "# Python Practice Problems"
   ]
  },
  {
   "cell_type": "markdown",
   "metadata": {},
   "source": [
    "###### Link https://www.hackernoon.com/50-data-structure-and-algorithms-interview-questions-for-programmers-b4b1ac61f5b0"
   ]
  },
  {
   "cell_type": "markdown",
   "metadata": {},
   "source": [
    "## Array Question\n"
   ]
  },
  {
   "cell_type": "markdown",
   "metadata": {},
   "source": [
    "#####    1.   How do you find the missing number in a given integer array of 1 to 100? (solution)\n",
    "#####    2.   How do you find the duplicate number on a given integer array? (solution)\n",
    "#####    3.   How do you find the largest and smallest number in an unsorted integer array? (solution)\n",
    "#####    4.   How do you find all pairs of an integer array whose sum is equal to a given number? (solution)\n",
    "#####    5.   How do you find duplicate numbers in an array if it contains multiple duplicates? (solution)\n",
    "#####    6.   How are duplicates removed from a given array in Java? (solution)\n",
    "#####    7.   How is an integer array sorted in place using the quicksort algorithm? (solution)\n",
    "#####    8.   How do you remove duplicates from an array in place? (solution)\n",
    "#####    9.   How do you reverse an array in place in Java? (solution)\n",
    "#####    10. How are duplicates removed from an array without using any library? (solution)"
   ]
  },
  {
   "cell_type": "markdown",
   "metadata": {},
   "source": [
    "## Solutions"
   ]
  },
  {
   "cell_type": "markdown",
   "metadata": {},
   "source": [
    "#####    1.   How do you find the missing number in a given integer array of 1 to 100? (solution)"
   ]
  },
  {
   "cell_type": "code",
   "execution_count": null,
   "metadata": {},
   "outputs": [],
   "source": [
    "array = [x for x in range(1,101)]"
   ]
  },
  {
   "cell_type": "code",
   "execution_count": null,
   "metadata": {},
   "outputs": [],
   "source": [
    "array.pop(35)"
   ]
  },
  {
   "cell_type": "code",
   "execution_count": null,
   "metadata": {},
   "outputs": [],
   "source": [
    "missing_array = [x for x in range(array[0],array[-1]+1) if x not in array ]"
   ]
  },
  {
   "cell_type": "code",
   "execution_count": null,
   "metadata": {},
   "outputs": [],
   "source": [
    "missing_array"
   ]
  },
  {
   "cell_type": "markdown",
   "metadata": {},
   "source": [
    "##### 2. How do you find the duplicate number on a given integer array?"
   ]
  },
  {
   "cell_type": "code",
   "execution_count": null,
   "metadata": {},
   "outputs": [],
   "source": [
    "array = [1,2,3,3,1,2,3,4,6,7,8]"
   ]
  },
  {
   "cell_type": "markdown",
   "metadata": {},
   "source": [
    "## CodeChef Challenge"
   ]
  },
  {
   "cell_type": "markdown",
   "metadata": {},
   "source": [
    "######  Link https://www.codechef.com/JULY20B/problems/CHEFSTR1"
   ]
  },
  {
   "cell_type": "code",
   "execution_count": null,
   "metadata": {},
   "outputs": [],
   "source": []
  },
  {
   "cell_type": "markdown",
   "metadata": {},
   "source": [
    "##### Having already mastered cooking, Chef has now decided to learn how to play the guitar. Often while trying to play a song, Chef has to skip several strings to reach the string he has to pluck. Eg. he may have to pluck the 1st string and then the 6th string. This is easy in guitars with only 6 strings; However, Chef is playing a guitar with 10^6 strings. In order to simplify his task, Chef wants you to write a program that will tell him the total number of strings he has to skip while playing his favourite song."
   ]
  },
  {
   "cell_type": "code",
   "execution_count": null,
   "metadata": {},
   "outputs": [],
   "source": [
    "from IPython.display import Image\n",
    "Image(\"https://codechef_shared.s3.amazonaws.com/download/Images/JULY20/CHEFSTR1/CHEFSTR1.png\")"
   ]
  },
  {
   "cell_type": "markdown",
   "metadata": {},
   "source": [
    "This is how guitar strings are numbered (In ascending order from right to left). Eg. to switch from string 1 to 6, Chef would have to skip 4 strings (2,3,4,5)\n",
    "\n",
    ".\n",
    "Input:\n",
    "\n",
    "    First line will contain T, number of testcases. Then the testcases follow.\n",
    "    The first line of each test case contains N, the number of times Chef has to pluck a string\n",
    "    The second line of each test case contains N space separated integers - S1, S2, …, SN, where Si is the number of the ith string Chef has to pluck.\n",
    "\n",
    "Output:\n",
    "\n",
    "For each testcase, output the total number of strings Chef has to skip over while playing his favourite song.\n",
    "Constraints\n",
    "\n",
    "    1≤T≤10\n",
    "    2≤N≤10^5\n",
    "    1≤Si≤10^6\n",
    "    For each valid i, Si≠Si+1\n",
    "\n",
    "Subtasks\n",
    "\n",
    "    30 points : for each valid i, Si<Si+1\n",
    "    70 points : No additional constraints\n",
    "\n",
    "Sample Input:<br>\n",
    "    2<br>\n",
    "    6<br>\n",
    "    1 6 11 6 10 11 <br>\n",
    "    4<br>\n",
    "    1 3 5 7<br>\n",
    "<br>\n",
    "Sample Output:<br>\n",
    "    15<br>\n",
    "    3<br>\n",
    "\n",
    "Explanation:\n",
    "\n",
    "Test Case 1\n",
    "\n",
    "    Chef skips 4 strings (2,3,4,5) to move from 1 to 6\n",
    "    Chef skips 4 strings (7,8,9,10) to move from 6 to 11\n",
    "    Chef skips 4 strings (10,9,8,7) to move from 11 to 6\n",
    "    Chef skips 3 strings (7,8,9) to move from 6 to 10\n",
    "    Chef skips 0 strings to move from 10 to 11\n",
    "\n",
    "Therefore, the answer is 4+4+4+3+0=15\n",
    "\n",
    "Test Case 2\n",
    "\n",
    "    Chef skips 1 string to move from 1 to 3 \n",
    "    Chef skips 1 string to move from 3 to 5\n",
    "    Chef skips 1 string to move from 5 to 7"
   ]
  },
  {
   "cell_type": "code",
   "execution_count": null,
   "metadata": {
    "scrolled": true
   },
   "outputs": [],
   "source": [
    "testcases = int(input())\n",
    "\n",
    "def findDifference(a,b):\n",
    "    return abs(a-b)-1 \n",
    "\n",
    "for i in range(testcases):\n",
    "    nodes = int(input())\n",
    "\n",
    "    first = int(input())\n",
    "    i = 0\n",
    "    steps = 0\n",
    "    while (i<nodes-1):\n",
    "        second = int(input())\n",
    "        i = i+1\n",
    "        steps += findDifference(first,second)\n",
    "        first = second\n",
    "    print(steps)"
   ]
  },
  {
   "cell_type": "code",
   "execution_count": null,
   "metadata": {},
   "outputs": [],
   "source": []
  },
  {
   "cell_type": "code",
   "execution_count": null,
   "metadata": {},
   "outputs": [],
   "source": []
  },
  {
   "cell_type": "code",
   "execution_count": null,
   "metadata": {},
   "outputs": [],
   "source": []
  },
  {
   "cell_type": "code",
   "execution_count": null,
   "metadata": {},
   "outputs": [],
   "source": []
  },
  {
   "cell_type": "code",
   "execution_count": null,
   "metadata": {},
   "outputs": [],
   "source": []
  },
  {
   "cell_type": "code",
   "execution_count": null,
   "metadata": {},
   "outputs": [],
   "source": []
  },
  {
   "cell_type": "code",
   "execution_count": null,
   "metadata": {},
   "outputs": [],
   "source": []
  },
  {
   "cell_type": "code",
   "execution_count": null,
   "metadata": {},
   "outputs": [],
   "source": []
  },
  {
   "cell_type": "markdown",
   "metadata": {},
   "source": [
    "https://www.codechef.com/JULY20B/problems/CRDGAME"
   ]
  },
  {
   "cell_type": "code",
   "execution_count": 2,
   "metadata": {},
   "outputs": [],
   "source": [
    "from functools import reduce"
   ]
  },
  {
   "cell_type": "code",
   "execution_count": 9,
   "metadata": {
    "scrolled": false
   },
   "outputs": [
    {
     "name": "stdout",
     "output_type": "stream",
     "text": [
      "2\n",
      "3\n",
      "10\n",
      "4\n",
      "8\n",
      "12\n",
      "7\n",
      "6\n",
      "0 2\n",
      "2\n",
      "5\n",
      "10\n",
      "3\n",
      "4\n",
      "2 1\n"
     ]
    }
   ],
   "source": [
    "testcases = int(input())\n",
    "\n",
    "for i in range(testcases):\n",
    "    game_rounds = int(input())\n",
    "    chef_wins = 0\n",
    "    morty_wins = 0\n",
    "    rounds = 0\n",
    "    \n",
    "    while rounds<=game_rounds-1:\n",
    "        chef_card = input()\n",
    "        morty_card = input()\n",
    "        if int(reduce(lambda x,y : int(x)+int(y) , chef_card)) > int(reduce(lambda x,y : int(x)+int(y) , morty_card)):\n",
    "            chef_wins += 1\n",
    "        elif int(reduce(lambda x,y : int(x)+int(y) , chef_card)) == int(reduce(lambda x,y : int(x)+int(y) , morty_card)):\n",
    "            morty_wins += 1\n",
    "            chef_wins += 1\n",
    "        else:\n",
    "            morty_wins +=1\n",
    "        rounds += 1\n",
    "    if chef_wins>morty_wins:\n",
    "        print('0 {}'.format(chef_wins))\n",
    "    elif morty_wins>chef_wins:\n",
    "        print('1 {}'.format(morty_wins))\n",
    "    else:\n",
    "        print('2 {}'.format(morty_wins))\n",
    "        "
   ]
  },
  {
   "cell_type": "code",
   "execution_count": null,
   "metadata": {},
   "outputs": [],
   "source": []
  }
 ],
 "metadata": {
  "kernelspec": {
   "display_name": "Python 3",
   "language": "python",
   "name": "python3"
  },
  "language_info": {
   "codemirror_mode": {
    "name": "ipython",
    "version": 3
   },
   "file_extension": ".py",
   "mimetype": "text/x-python",
   "name": "python",
   "nbconvert_exporter": "python",
   "pygments_lexer": "ipython3",
   "version": "3.5.2"
  }
 },
 "nbformat": 4,
 "nbformat_minor": 4
}
